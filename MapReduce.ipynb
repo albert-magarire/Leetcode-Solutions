{
  "nbformat": 4,
  "nbformat_minor": 0,
  "metadata": {
    "colab": {
      "provenance": [],
      "authorship_tag": "ABX9TyMg4xM6E6gaIIXHrfUMeoRt",
      "include_colab_link": true
    },
    "kernelspec": {
      "name": "python3",
      "display_name": "Python 3"
    },
    "language_info": {
      "name": "python"
    }
  },
  "cells": [
    {
      "cell_type": "markdown",
      "metadata": {
        "id": "view-in-github",
        "colab_type": "text"
      },
      "source": [
        "<a href=\"https://colab.research.google.com/github/albert-magarire/Leetcode-Solutions/blob/main/MapReduce.ipynb\" target=\"_parent\"><img src=\"https://colab.research.google.com/assets/colab-badge.svg\" alt=\"Open In Colab\"/></a>"
      ]
    },
    {
      "cell_type": "code",
      "execution_count": 1,
      "metadata": {
        "colab": {
          "base_uri": "https://localhost:8080/"
        },
        "id": "odFhOetxKMcb",
        "outputId": "ccdb6a03-0408-4e16-8635-ae349aa83b8e"
      },
      "outputs": [
        {
          "output_type": "stream",
          "name": "stdout",
          "text": [
            "The cat is sitting on a mat.\n",
            "A cat is a nice pet.\n",
            "The mat is old\n"
          ]
        }
      ],
      "source": [
        "data = [\n",
        "    \"The cat is sitting on a mat.\",\n",
        "    \"A cat is a nice pet.\",\n",
        "    \"The mat is old\"\n",
        "]\n",
        "\n",
        "for line in data:\n",
        "  print(line)"
      ]
    },
    {
      "cell_type": "code",
      "source": [
        "def map_function(line):\n",
        "  words = line.lower().split()\n",
        "  intermediate_pairs = [(word,1) for word in words]\n",
        "  return intermediate_pairs\n",
        "all_intermediate_pairs = []\n",
        "for line in data:\n",
        "  all_intermediate_pairs.extend(map_function(line))\n",
        "print(all_intermediate_pairs)"
      ],
      "metadata": {
        "colab": {
          "base_uri": "https://localhost:8080/"
        },
        "id": "C0S7tprAKqeM",
        "outputId": "608bfe1e-501e-45cd-a638-36f15d0bfd28"
      },
      "execution_count": 3,
      "outputs": [
        {
          "output_type": "stream",
          "name": "stdout",
          "text": [
            "[('the', 1), ('cat', 1), ('is', 1), ('sitting', 1), ('on', 1), ('a', 1), ('mat.', 1), ('a', 1), ('cat', 1), ('is', 1), ('a', 1), ('nice', 1), ('pet.', 1), ('the', 1), ('mat', 1), ('is', 1), ('old', 1)]\n"
          ]
        }
      ]
    },
    {
      "cell_type": "code",
      "source": [
        "from collections import defaultdict\n",
        "shuffled_data = defaultdict(list)\n",
        "for key, value in all_intermediate_pairs:\n",
        "  shuffled_data[key].append(value)\n",
        "print(dict(shuffled_data))"
      ],
      "metadata": {
        "colab": {
          "base_uri": "https://localhost:8080/"
        },
        "id": "6mlfM2AKLne0",
        "outputId": "f0aa7611-7e4e-4c28-98cc-cc8c1395ff09"
      },
      "execution_count": 4,
      "outputs": [
        {
          "output_type": "stream",
          "name": "stdout",
          "text": [
            "{'the': [1, 1], 'cat': [1, 1], 'is': [1, 1, 1], 'sitting': [1], 'on': [1], 'a': [1, 1, 1], 'mat.': [1], 'nice': [1], 'pet.': [1], 'mat': [1], 'old': [1]}\n"
          ]
        }
      ]
    },
    {
      "cell_type": "code",
      "source": [
        "def reduce_function(word, counts_list):\n",
        "  final_count = sum(counts_list)\n",
        "  return (word, final_count)\n",
        "final_results = []\n",
        "for word, counts_list in shuffled_data.items():\n",
        "  final_results.append(reduce_function(word, counts_list))\n",
        "final_results.sort()\n",
        "for word, count in final_results:\n",
        "  print(f\"'{word}': {count}\")"
      ],
      "metadata": {
        "colab": {
          "base_uri": "https://localhost:8080/"
        },
        "id": "358sA6CdL80R",
        "outputId": "91bac08a-9c7f-4935-d29a-f2490b52d1b7"
      },
      "execution_count": 10,
      "outputs": [
        {
          "output_type": "stream",
          "name": "stdout",
          "text": [
            "'a': 3\n",
            "'cat': 2\n",
            "'is': 3\n",
            "'mat': 1\n",
            "'mat.': 1\n",
            "'nice': 1\n",
            "'old': 1\n",
            "'on': 1\n",
            "'pet.': 1\n",
            "'sitting': 1\n",
            "'the': 2\n"
          ]
        }
      ]
    }
  ]
}