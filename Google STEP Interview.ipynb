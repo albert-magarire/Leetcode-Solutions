{
  "nbformat": 4,
  "nbformat_minor": 0,
  "metadata": {
    "colab": {
      "provenance": [],
      "authorship_tag": "ABX9TyOLFwajdLK3ps4nQXqviXkN",
      "include_colab_link": true
    },
    "kernelspec": {
      "name": "python3",
      "display_name": "Python 3"
    },
    "language_info": {
      "name": "python"
    }
  },
  "cells": [
    {
      "cell_type": "markdown",
      "metadata": {
        "id": "view-in-github",
        "colab_type": "text"
      },
      "source": [
        "<a href=\"https://colab.research.google.com/github/albert-magarire/Leetcode-Solutions/blob/main/Google%20STEP%20Interview.ipynb\" target=\"_parent\"><img src=\"https://colab.research.google.com/assets/colab-badge.svg\" alt=\"Open In Colab\"/></a>"
      ]
    },
    {
      "cell_type": "code",
      "execution_count": 7,
      "metadata": {
        "colab": {
          "base_uri": "https://localhost:8080/"
        },
        "id": "VG3cyU9zJ5lq",
        "outputId": "1261cde5-ea7d-4de6-faad-52d4de561a69"
      },
      "outputs": [
        {
          "output_type": "stream",
          "name": "stdout",
          "text": [
            "Today's mood: 😒\n"
          ]
        }
      ],
      "source": [
        "def mood():\n",
        "  mood = \"😒\"\n",
        "  print(\"Today' mood: \" + mood)\n",
        "\n",
        "mood()"
      ]
    },
    {
      "cell_type": "code",
      "source": [
        "def mood(mood):\n",
        "  mood = \"🙂\"\n",
        "  #using the f string to format the variables into the string for printing\n",
        "  print(f\"Today's mood:{mood} \")\n",
        "\n",
        "mood(\"🙂\")"
      ],
      "metadata": {
        "colab": {
          "base_uri": "https://localhost:8080/"
        },
        "id": "pdGSxpbBKadU",
        "outputId": "ab8a3585-7a7f-4b6c-a791-ea9f42b5d998"
      },
      "execution_count": 8,
      "outputs": [
        {
          "output_type": "stream",
          "name": "stdout",
          "text": [
            "Today's mood:🙂 \n"
          ]
        }
      ]
    },
    {
      "cell_type": "code",
      "source": [
        "def print_menu(menu):\n",
        "  print(f\"Today's menu: {menu}\")\n",
        "\n",
        "print_menu(\"🍕\")"
      ],
      "metadata": {
        "colab": {
          "base_uri": "https://localhost:8080/"
        },
        "id": "7EXUYGyCKzgO",
        "outputId": "f008189a-b30a-486e-bc92-e710f27efd0e"
      },
      "execution_count": 10,
      "outputs": [
        {
          "output_type": "stream",
          "name": "stdout",
          "text": [
            "Today's menu: 🍕\n"
          ]
        }
      ]
    },
    {
      "cell_type": "code",
      "source": [
        "def sum(a,b):\n",
        "  total = a + b\n",
        "  print(total)\n",
        "\n",
        "  product = total * 2\n",
        "  print(product)\n",
        "\n",
        "sum(13, 27)"
      ],
      "metadata": {
        "colab": {
          "base_uri": "https://localhost:8080/"
        },
        "id": "-0AZMayPLnPf",
        "outputId": "f6da7686-800a-4a6a-99fc-205b161b54cc"
      },
      "execution_count": 12,
      "outputs": [
        {
          "output_type": "stream",
          "name": "stdout",
          "text": [
            "40\n",
            "80\n"
          ]
        }
      ]
    },
    {
      "cell_type": "code",
      "source": [
        "def product(a, b):\n",
        "  prod = a * b\n",
        "  return prod\n",
        "\n",
        "product(22,7)"
      ],
      "metadata": {
        "colab": {
          "base_uri": "https://localhost:8080/"
        },
        "id": "wlez_kkfMMWx",
        "outputId": "bf106394-cefa-4ffc-e2b0-0c67b8fa757b"
      },
      "execution_count": 14,
      "outputs": [
        {
          "output_type": "execute_result",
          "data": {
            "text/plain": [
              "154"
            ]
          },
          "metadata": {},
          "execution_count": 14
        }
      ]
    },
    {
      "cell_type": "code",
      "source": [
        "def classify_age(age):\n",
        "  if age < 18:\n",
        "    return \"child\"\n",
        "  else:\n",
        "    return \"adult\"\n",
        "\n",
        "output = classify_age(25)\n",
        "print(output)"
      ],
      "metadata": {
        "colab": {
          "base_uri": "https://localhost:8080/"
        },
        "id": "DpWe3ZrkMrtB",
        "outputId": "a96e9034-551e-477c-f918-ec25cb21cebc"
      },
      "execution_count": 15,
      "outputs": [
        {
          "output_type": "stream",
          "name": "stdout",
          "text": [
            "adult\n"
          ]
        }
      ]
    },
    {
      "cell_type": "code",
      "source": [
        "def what_time_is_it(time):\n",
        "  if time == 2:\n",
        "    return \"breakfast\"\n",
        "  elif time == 12:\n",
        "    return \"lunch\"\n",
        "  else:\n",
        "    return \"nap time\"\n",
        "\n",
        "output = what_time_is_it(12)\n",
        "print(output)"
      ],
      "metadata": {
        "colab": {
          "base_uri": "https://localhost:8080/"
        },
        "id": "W8FD515uNQ8r",
        "outputId": "05b8c131-49d7-4ea8-f9cc-192f2b971567"
      },
      "execution_count": 18,
      "outputs": [
        {
          "output_type": "stream",
          "name": "stdout",
          "text": [
            "lunch\n"
          ]
        }
      ]
    },
    {
      "cell_type": "code",
      "source": [
        "def get_first(lst):\n",
        "  if lst == []:\n",
        "    return None\n",
        "  else:\n",
        "    return lst[0]\n",
        "\n",
        "output = get_first([1,2,3])\n",
        "print(output)"
      ],
      "metadata": {
        "colab": {
          "base_uri": "https://localhost:8080/"
        },
        "id": "htWAybEIN4C5",
        "outputId": "be731b35-9730-4142-80c0-fdd9ce1f708c"
      },
      "execution_count": 19,
      "outputs": [
        {
          "output_type": "stream",
          "name": "stdout",
          "text": [
            "1\n"
          ]
        }
      ]
    },
    {
      "cell_type": "code",
      "source": [
        "def get_last(lst):\n",
        "  if lst == []:\n",
        "    return None\n",
        "  else:\n",
        "    return lst[-1]\n",
        "\n",
        "output = get_last([1,2,3])\n",
        "print(output)"
      ],
      "metadata": {
        "colab": {
          "base_uri": "https://localhost:8080/"
        },
        "id": "iTBRY0kaOTTh",
        "outputId": "efcc0de2-4a5a-4033-a8a6-881f4424873d"
      },
      "execution_count": 21,
      "outputs": [
        {
          "output_type": "stream",
          "name": "stdout",
          "text": [
            "3\n"
          ]
        }
      ]
    },
    {
      "cell_type": "code",
      "source": [
        "def counter(stop):\n",
        "  for n in range(1, stop + 1):\n",
        "    print(n)\n",
        "\n",
        "counter(10)"
      ],
      "metadata": {
        "colab": {
          "base_uri": "https://localhost:8080/"
        },
        "id": "QD2KGZImOjsI",
        "outputId": "68675b80-fb39-4cd1-bc3a-7a1c3b4f3e07"
      },
      "execution_count": 23,
      "outputs": [
        {
          "output_type": "stream",
          "name": "stdout",
          "text": [
            "1\n",
            "2\n",
            "3\n",
            "4\n",
            "5\n",
            "6\n",
            "7\n",
            "8\n",
            "9\n",
            "10\n"
          ]
        }
      ]
    },
    {
      "cell_type": "code",
      "source": [
        "def sumTen():\n",
        "  sum = 0\n",
        "  for i in range(11):\n",
        "    sum += i\n",
        "  return(sum)\n",
        "\n",
        "sumTen()"
      ],
      "metadata": {
        "colab": {
          "base_uri": "https://localhost:8080/"
        },
        "id": "A26V1Af8uqyQ",
        "outputId": "7eaa2eab-21ad-478e-d2b0-a15a12fffdd0"
      },
      "execution_count": 7,
      "outputs": [
        {
          "output_type": "execute_result",
          "data": {
            "text/plain": [
              "55"
            ]
          },
          "metadata": {},
          "execution_count": 7
        }
      ]
    },
    {
      "cell_type": "code",
      "source": [
        "def sum_range(start, stop):\n",
        "  sum = 0\n",
        "\n",
        "  for i in range(start, stop+1):\n",
        "    sum += i\n",
        "  return sum\n",
        "\n",
        "sum_range(3,9)"
      ],
      "metadata": {
        "colab": {
          "base_uri": "https://localhost:8080/"
        },
        "id": "QCyMCrHVv632",
        "outputId": "5c6327a0-ad30-493b-d9f8-ed01cfd964d5"
      },
      "execution_count": 10,
      "outputs": [
        {
          "output_type": "execute_result",
          "data": {
            "text/plain": [
              "42"
            ]
          },
          "metadata": {},
          "execution_count": 10
        }
      ]
    }
  ]
}
